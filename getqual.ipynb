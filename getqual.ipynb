{
 "cells": [
  {
   "cell_type": "code",
   "execution_count": null,
   "id": "996ccc2f",
   "metadata": {},
   "outputs": [],
   "source": [
    "### Get Quality Metrics\n",
    "\n",
    "# Import libraries\n",
    "import os\n",
    "import pandas as pd\n",
    "import numpy as np"
   ]
  },
  {
   "cell_type": "markdown",
   "id": "d7be3c80",
   "metadata": {},
   "source": []
  },
  {
   "cell_type": "code",
   "execution_count": null,
   "id": "605ad290",
   "metadata": {},
   "outputs": [],
   "source": [
    "# want to read a specific quality url\n",
    "url ='https://obsic-metrics.whoi.edu/static/images/quality/2P/OBS04_EDH.txt'\n",
    "\n",
    "# read in the data\n",
    "data = pd.read_csv(url, delimiter=',', header=2, names=['DateTime', 'Quality'])\n",
    "\n",
    "# now specify start and end window\n",
    "\n",
    "start_date = '2023-10-01 00:00:00'\n",
    "end_date = '2023-10-31 23:59:57'\n",
    "mask = (data['DateTime'] >= start_date) & (data['DateTime'] <= end_date)\n",
    "filtered_data = data.loc[mask]"
   ]
  },
  {
   "cell_type": "code",
   "execution_count": 7,
   "id": "c0c13e0e",
   "metadata": {},
   "outputs": [
    {
     "data": {
      "text/html": [
       "<div>\n",
       "<style scoped>\n",
       "    .dataframe tbody tr th:only-of-type {\n",
       "        vertical-align: middle;\n",
       "    }\n",
       "\n",
       "    .dataframe tbody tr th {\n",
       "        vertical-align: top;\n",
       "    }\n",
       "\n",
       "    .dataframe thead th {\n",
       "        text-align: right;\n",
       "    }\n",
       "</style>\n",
       "<table border=\"1\" class=\"dataframe\">\n",
       "  <thead>\n",
       "    <tr style=\"text-align: right;\">\n",
       "      <th></th>\n",
       "      <th>DateTime</th>\n",
       "      <th>Quality</th>\n",
       "    </tr>\n",
       "  </thead>\n",
       "  <tbody>\n",
       "    <tr>\n",
       "      <th>0</th>\n",
       "      <td>2024-11-27</td>\n",
       "      <td>111111111111111111111111</td>\n",
       "    </tr>\n",
       "    <tr>\n",
       "      <th>1</th>\n",
       "      <td>2024-11-28</td>\n",
       "      <td>111111111111111111101111</td>\n",
       "    </tr>\n",
       "    <tr>\n",
       "      <th>2</th>\n",
       "      <td>2024-11-29</td>\n",
       "      <td>111111111111111111111111</td>\n",
       "    </tr>\n",
       "    <tr>\n",
       "      <th>3</th>\n",
       "      <td>2024-11-30</td>\n",
       "      <td>111111111111111111111111</td>\n",
       "    </tr>\n",
       "    <tr>\n",
       "      <th>4</th>\n",
       "      <td>2024-12-01</td>\n",
       "      <td>111111111111111111111111</td>\n",
       "    </tr>\n",
       "    <tr>\n",
       "      <th>...</th>\n",
       "      <td>...</td>\n",
       "      <td>...</td>\n",
       "    </tr>\n",
       "    <tr>\n",
       "      <th>113</th>\n",
       "      <td>2025-03-20</td>\n",
       "      <td>000000000000000000000000</td>\n",
       "    </tr>\n",
       "    <tr>\n",
       "      <th>114</th>\n",
       "      <td>2025-03-21</td>\n",
       "      <td>000000000000000000000000</td>\n",
       "    </tr>\n",
       "    <tr>\n",
       "      <th>115</th>\n",
       "      <td>2025-03-22</td>\n",
       "      <td>000000000000000000000000</td>\n",
       "    </tr>\n",
       "    <tr>\n",
       "      <th>116</th>\n",
       "      <td>2025-03-23</td>\n",
       "      <td>000000000000000000000000</td>\n",
       "    </tr>\n",
       "    <tr>\n",
       "      <th>117</th>\n",
       "      <td>2025-03-24</td>\n",
       "      <td>000000000000000000000000</td>\n",
       "    </tr>\n",
       "  </tbody>\n",
       "</table>\n",
       "<p>118 rows × 2 columns</p>\n",
       "</div>"
      ],
      "text/plain": [
       "       DateTime                   Quality\n",
       "0    2024-11-27  111111111111111111111111\n",
       "1    2024-11-28  111111111111111111101111\n",
       "2    2024-11-29  111111111111111111111111\n",
       "3    2024-11-30  111111111111111111111111\n",
       "4    2024-12-01  111111111111111111111111\n",
       "..          ...                       ...\n",
       "113  2025-03-20  000000000000000000000000\n",
       "114  2025-03-21  000000000000000000000000\n",
       "115  2025-03-22  000000000000000000000000\n",
       "116  2025-03-23  000000000000000000000000\n",
       "117  2025-03-24  000000000000000000000000\n",
       "\n",
       "[118 rows x 2 columns]"
      ]
     },
     "execution_count": 7,
     "metadata": {},
     "output_type": "execute_result"
    }
   ],
   "source": [
    "data"
   ]
  },
  {
   "cell_type": "code",
   "execution_count": null,
   "id": "411fd1f0",
   "metadata": {},
   "outputs": [],
   "source": []
  }
 ],
 "metadata": {
  "kernelspec": {
   "display_name": "metrics",
   "language": "python",
   "name": "python3"
  },
  "language_info": {
   "codemirror_mode": {
    "name": "ipython",
    "version": 3
   },
   "file_extension": ".py",
   "mimetype": "text/x-python",
   "name": "python",
   "nbconvert_exporter": "python",
   "pygments_lexer": "ipython3",
   "version": "3.10.9"
  }
 },
 "nbformat": 4,
 "nbformat_minor": 5
}
